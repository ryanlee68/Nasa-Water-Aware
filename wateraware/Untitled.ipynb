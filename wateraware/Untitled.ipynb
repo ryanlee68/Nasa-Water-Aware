{
 "cells": [
  {
   "cell_type": "code",
   "execution_count": 2,
   "id": "9541138f-7faa-4036-8405-bcce6acc007e",
   "metadata": {},
   "outputs": [],
   "source": [
    "import pandas as pd"
   ]
  },
  {
   "cell_type": "code",
   "execution_count": 3,
   "id": "c1635f75-28d8-42ee-a4c6-60f2afcb3b35",
   "metadata": {},
   "outputs": [],
   "source": [
    "df = pd.read_csv('FWS_Species_Data_Explorer.csv')"
   ]
  },
  {
   "cell_type": "code",
   "execution_count": 6,
   "id": "263bf2bd-c3b1-419a-a02c-68e67ee8c77b",
   "metadata": {},
   "outputs": [
    {
     "name": "stdout",
     "output_type": "stream",
     "text": [
      "Common Name            object\n",
      "Scientific Name        object\n",
      "Scientific Name_url    object\n",
      "ESA Listing Status     object\n",
      "Entity Description     object\n",
      "ESA Listing Date       object\n",
      "Common Name.1          object\n",
      "ECOS Species ID         int64\n",
      "Foreign or Domestic    object\n",
      "Range Envelope         object\n",
      "Range Shapefile        object\n",
      "Range Shapefile_url    object\n",
      "Image URL              object\n",
      "Image URL_url          object\n",
      "Image Source           object\n",
      "County Name            object\n",
      "State Abbreviation     object\n",
      "State Name             object\n",
      "Is Foreign?              bool\n",
      "dtype: object\n"
     ]
    }
   ],
   "source": [
    "print(df.dtypes)"
   ]
  },
  {
   "cell_type": "code",
   "execution_count": null,
   "id": "007c0e26-6505-4b15-bf25-ebc2775bdcd9",
   "metadata": {},
   "outputs": [],
   "source": []
  }
 ],
 "metadata": {
  "kernelspec": {
   "display_name": "wateraware",
   "language": "python",
   "name": "wateraware"
  },
  "language_info": {
   "codemirror_mode": {
    "name": "ipython",
    "version": 3
   },
   "file_extension": ".py",
   "mimetype": "text/x-python",
   "name": "python",
   "nbconvert_exporter": "python",
   "pygments_lexer": "ipython3",
   "version": "3.10.13"
  }
 },
 "nbformat": 4,
 "nbformat_minor": 5
}
